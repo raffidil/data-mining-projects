{
 "cells": [
  {
   "cell_type": "markdown",
   "metadata": {},
   "source": [
    "# Raffi Dilanchian - 951811193016\n",
    "# Mohammad Hossein Komeili - 951811193033\n",
    "## Implementation of _PCA_ and _KNN_\n"
   ]
  },
  {
   "cell_type": "code",
   "execution_count": null,
   "metadata": {
    "scrolled": true
   },
   "outputs": [],
   "source": [
    "#in case of not having this package\n",
    "#! pip install pillow"
   ]
  },
  {
   "cell_type": "code",
   "execution_count": 57,
   "metadata": {},
   "outputs": [],
   "source": [
    "import numpy as np\n",
    "from sklearn.preprocessing import StandardScaler\n",
    "from scipy.spatial import distance\n",
    "import matplotlib.pyplot as plt\n",
    "from os.path import join\n",
    "import pandas as pd\n",
    "import cv2\n",
    "from scipy.linalg import eigh\n",
    "from sklearn.neighbors import KNeighborsClassifier\n",
    "from sklearn.metrics import accuracy_score\n",
    "%matplotlib inline"
   ]
  },
  {
   "cell_type": "code",
   "execution_count": 58,
   "metadata": {},
   "outputs": [],
   "source": [
    "data_folder = \"att_faces/s\"\n",
    "\n",
    "def ReadFile(num,index):\n",
    "    file_path = join(data_folder + str(num), str(index) + \".pgm\")\n",
    "    loaded_image=np.array(plt.imread(file_path))\n",
    "    image_32x32 = cv2.resize(loaded_image, (32, 32), interpolation=cv2.IMREAD_GRAYSCALE)\n",
    "    image_1024 = image_32x32.reshape(-1)\n",
    "    return image_1024\n",
    "    "
   ]
  },
  {
   "cell_type": "code",
   "execution_count": 59,
   "metadata": {},
   "outputs": [],
   "source": [
    "import operator \n",
    "### Alternative to KNN \n",
    "def getKNeighborsIndex(trainingSet, testInstance, k=1):\n",
    "    distances = []\n",
    "    for x in range(len(trainingSet)):\n",
    "        dist = distance.euclidean(testInstance , trainingSet[x])\n",
    "        distances.append((trainingSet[x],x, dist))\n",
    "    distances.sort(key=operator.itemgetter(2))\n",
    "    neighbors = []\n",
    "    for x in range(k):\n",
    "        neighbors.append(distances[x][1])\n",
    "    return neighbors"
   ]
  },
  {
   "cell_type": "code",
   "execution_count": 60,
   "metadata": {},
   "outputs": [],
   "source": [
    "### Alternative to accuracy_score method\n",
    "def getAccuracy(testSet, predictions):\n",
    "    correct = 0\n",
    "    \n",
    "    for x in range(len(testSet)):\n",
    "        if testSet[x] == predictions[x]:\n",
    "            correct += 1\n",
    "    return (correct/float(len(testSet))) * 100.0"
   ]
  },
  {
   "cell_type": "markdown",
   "metadata": {},
   "source": [
    "## Use first 5 sample of each person"
   ]
  },
  {
   "cell_type": "code",
   "execution_count": 64,
   "metadata": {},
   "outputs": [
    {
     "name": "stdout",
     "output_type": "stream",
     "text": [
      "shape of X_train:  (1024, 200)\n",
      "\n",
      "model accuracy based on number of chosen features in percent ( training on the 5 first image of each class ) :\n",
      "\n",
      "accuray on 5 features is 58.50\n",
      "accuray on 10 features is 80.00\n",
      "accuray on 15 features is 79.00\n",
      "accuray on 20 features is 82.00\n",
      "accuray on 25 features is 83.00\n",
      "accuray on 30 features is 83.50\n",
      "accuray on 35 features is 84.00\n",
      "accuray on 40 features is 83.00\n",
      "accuray on 45 features is 83.50\n",
      "accuray on 50 features is 84.00\n",
      "accuray on 55 features is 84.50\n",
      "accuray on 60 features is 84.00\n",
      "accuray on 65 features is 83.00\n",
      "accuray on 70 features is 84.00\n",
      "accuray on 75 features is 83.50\n",
      "accuray on 80 features is 83.50\n",
      "accuray on 85 features is 83.50\n",
      "accuray on 90 features is 83.50\n",
      "accuray on 95 features is 83.50\n",
      "accuray on 100 features is 83.50\n",
      "accuray on 105 features is 83.50\n",
      "accuray on 110 features is 83.00\n",
      "accuray on 115 features is 82.50\n",
      "accuray on 120 features is 82.50\n",
      "accuray on 125 features is 82.00\n",
      "accuray on 130 features is 81.50\n",
      "accuray on 135 features is 81.50\n",
      "accuray on 140 features is 81.00\n",
      "accuray on 145 features is 82.50\n",
      "accuray on 150 features is 81.50\n",
      "accuray on 155 features is 81.50\n",
      "accuray on 160 features is 82.00\n",
      "accuray on 165 features is 81.50\n",
      "accuray on 170 features is 81.00\n",
      "accuray on 175 features is 81.50\n",
      "accuray on 180 features is 82.00\n",
      "accuray on 185 features is 82.00\n",
      "accuray on 190 features is 82.00\n",
      "accuray on 195 features is 82.50\n",
      "accuray on 200 features is 82.50\n"
     ]
    }
   ],
   "source": [
    "\n",
    "y_train = []\n",
    "y_test = []\n",
    "\n",
    "X_train = np.array([],dtype=int)\n",
    "X_test = np.array([],dtype=int)\n",
    "\n",
    "# reading data\n",
    "for num in range(1,41):\n",
    "    trainList = np.array([1,2,3,4,5])\n",
    "    testList = np.array([6,7,8,9,10])\n",
    "    \n",
    "    for index in trainList:\n",
    "        image_1024 = ReadFile(num,index)\n",
    "        X_train = np.concatenate((X_train,image_1024),axis=0)\n",
    "        y_train.append(num)\n",
    "        \n",
    "    for index in testList:\n",
    "        image_1024 = ReadFile(num,index)\n",
    "        X_test = np.concatenate((X_test,image_1024),axis=0)\n",
    "        y_test.append(num)\n",
    "        \n",
    "X_train = np.reshape(X_train,(200,1024)).T\n",
    "X_test = np.reshape(X_test,(200,1024)).T\n",
    "\n",
    "\n",
    "y_train = np.array(y_train)\n",
    "y_test = np.array(y_test)\n",
    "print(\"shape of X_train: \",np.shape(X_train)) #(1024,200)   \n",
    "\n",
    "### Standardization\n",
    "stScaler = StandardScaler()\n",
    "standardized_X_train = stScaler.fit_transform(X_train)\n",
    "standardized_X_test = stScaler.transform(X_test)\n",
    "\n",
    "### Calculating R_x\n",
    "R_x = np.cov(standardized_X_train)\n",
    "\n",
    "accuracies=[]\n",
    "number_of_features = range(5,201,5)\n",
    "\n",
    "print(\"\\nmodel accuracy based on number of chosen features in percent ( training on the 5 first image of each class ) :\\n\")\n",
    "    \n",
    "for number_of_feature in number_of_features:\n",
    "    eigen_values, eigen_vectors = eigh(R_x, eigvals=(1024-number_of_feature,1023))\n",
    "    transform_matris = eigen_vectors\n",
    "    \n",
    "    ### Apply learned transform matrix on train and test dataset\n",
    "    reduced_X_train = np.matmul(transform_matris.T,standardized_X_train).T\n",
    "    reduced_X_test = np.matmul(transform_matris.T,standardized_X_test).T\n",
    "\n",
    "    ### Using implemented KNN to predict test data\n",
    "    y_pred=[]\n",
    "    for testInstance in reduced_X_test:\n",
    "        neighbors = getKNeighborsIndex(reduced_X_train, testInstance)\n",
    "        y_pred.append(y_test[neighbors[0]])\n",
    "\n",
    "    ### Calculating accuracy\n",
    "    accuracies.append(accuracy_score(y_test, y_pred)*100)\n",
    "    print(\"accuray on %d features is %.2f\" % (number_of_feature ,getAccuracy(y_test, y_pred)))\n",
    "\n",
    "number_of_features_in_static_trainlist = number_of_features\n",
    "accuracies_in_static_trainlist = accuracies\n",
    "   "
   ]
  },
  {
   "cell_type": "code",
   "execution_count": 66,
   "metadata": {},
   "outputs": [
    {
     "name": "stdout",
     "output_type": "stream",
     "text": [
      "[58.5, 80.0, 79.0, 82.0, 83.0, 83.5, 84.0, 83.0, 83.5, 84.0, 84.5, 84.0, 83.0, 84.0, 83.5, 83.5, 83.5, 83.5, 83.5, 83.5, 83.5, 83.0, 82.5, 82.5, 82.0, 81.5, 81.5, 81.0, 82.5, 81.5, 81.5, 82.0, 81.5, 81.0, 81.5, 82.0, 82.0, 82.0, 82.5, 82.5]\n"
     ]
    },
    {
     "data": {
      "image/png": "[encoded data removed]",
      "text/plain": [
       "<Figure size 1440x576 with 1 Axes>"
      ]
     },
     "metadata": {
      "needs_background": "light"
     },
     "output_type": "display_data"
    }
   ],
   "source": [
    "print(accuracies_in_static_trainlist)\n",
    "\n",
    "fig = plt.figure(figsize=(20,8))\n",
    "plt.plot(number_of_features_in_static_trainlist,accuracies_in_static_trainlist)\n",
    "plt.plot(number_of_features_in_static_trainlist,accuracies_in_static_trainlist,'o')\n",
    "plt.xlabel(\"Number of features\")\n",
    "plt.ylabel(\"Accuracy in %\")\n",
    "plt.xticks(number_of_features)\n",
    "plt.grid()\n",
    "plt.show()\n",
    "        "
   ]
  },
  {
   "cell_type": "markdown",
   "metadata": {},
   "source": [
    "## Use 5 sample of each person randomly for 20 times"
   ]
  },
  {
   "cell_type": "code",
   "execution_count": 67,
   "metadata": {},
   "outputs": [
    {
     "name": "stdout",
     "output_type": "stream",
     "text": [
      "model accuracy based on number of chosen features in percent ( training on 5 random image of each class )  :\n",
      "\n",
      "average of accuray on 5 features is 69.55\n",
      "average of accuray on 10 features is 86.33\n",
      "average of accuray on 15 features is 88.25\n",
      "average of accuray on 20 features is 89.92\n",
      "average of accuray on 25 features is 90.33\n",
      "average of accuray on 30 features is 90.85\n",
      "average of accuray on 35 features is 91.40\n",
      "average of accuray on 40 features is 91.17\n",
      "average of accuray on 45 features is 91.55\n",
      "average of accuray on 50 features is 91.12\n",
      "average of accuray on 55 features is 90.30\n",
      "average of accuray on 60 features is 91.17\n",
      "average of accuray on 65 features is 91.60\n",
      "average of accuray on 70 features is 91.58\n",
      "average of accuray on 75 features is 91.05\n",
      "average of accuray on 80 features is 91.08\n",
      "average of accuray on 85 features is 91.25\n",
      "average of accuray on 90 features is 91.60\n",
      "average of accuray on 95 features is 90.97\n",
      "average of accuray on 100 features is 91.28\n",
      "average of accuray on 105 features is 91.88\n",
      "average of accuray on 110 features is 91.05\n",
      "average of accuray on 115 features is 90.78\n",
      "average of accuray on 120 features is 91.38\n",
      "average of accuray on 125 features is 91.45\n",
      "average of accuray on 130 features is 90.97\n",
      "average of accuray on 135 features is 91.38\n",
      "average of accuray on 140 features is 91.40\n",
      "average of accuray on 145 features is 91.50\n",
      "average of accuray on 150 features is 91.08\n",
      "average of accuray on 155 features is 91.40\n",
      "average of accuray on 160 features is 91.33\n",
      "average of accuray on 165 features is 91.00\n",
      "average of accuray on 170 features is 91.53\n",
      "average of accuray on 175 features is 91.53\n",
      "average of accuray on 180 features is 91.45\n",
      "average of accuray on 185 features is 91.45\n",
      "average of accuray on 190 features is 91.53\n",
      "average of accuray on 195 features is 91.97\n",
      "average of accuray on 200 features is 91.47\n"
     ]
    }
   ],
   "source": [
    "print(\"model accuracy based on number of chosen features in percent ( training on 5 random image of each class )  :\\n\")\n",
    "### Changing number of selected features from 5 to 200 \n",
    "number_of_features = range(5,201,5)\n",
    "accuracies=[]\n",
    "for number_of_feature in number_of_features:\n",
    "    random_accuracies=[]\n",
    "    for epoch in range(20):\n",
    "        y_train = []\n",
    "        y_test = []\n",
    "    \n",
    "        X_train = np.array([],dtype=int)\n",
    "        X_test = np.array([],dtype=int)\n",
    "\n",
    "        # reading data\n",
    "        for num in range(1,41):\n",
    "            trainList = np.random.choice(range(1,11), 5, replace=False)\n",
    "            testList = np.setdiff1d(range(1,11),trainList)\n",
    "\n",
    "            for index in trainList:\n",
    "                image_1024 = ReadFile(num,index)\n",
    "                X_train = np.concatenate((X_train,image_1024),axis=0)\n",
    "                y_train.append(num)\n",
    "\n",
    "            for index in testList:\n",
    "                image_1024 = ReadFile(num,index)\n",
    "                X_test = np.concatenate((X_test,image_1024),axis=0)\n",
    "                y_test.append(num)\n",
    "\n",
    "        X_train = np.reshape(X_train,(200,1024)).T\n",
    "        X_test = np.reshape(X_test,(200,1024)).T\n",
    "\n",
    "\n",
    "        y_train = np.array(y_train)\n",
    "        y_test = np.array(y_test)\n",
    "        \n",
    "        ### Standardized\n",
    "        stScaler = StandardScaler()\n",
    "        standardized_X_train = stScaler.fit_transform(X_train)\n",
    "        standardized_X_test = stScaler.transform(X_test)\n",
    "        \n",
    "        ### Calculating R_x\n",
    "        R_x = np.cov(standardized_X_train) # (1024,1024)\n",
    "        eigen_values, eigen_vectors = eigh(R_x, eigvals=(1024-number_of_feature,1023))\n",
    "        transform_matris = eigen_vectors\n",
    "        reduced_X_train = np.matmul(transform_matris.T,standardized_X_train).T\n",
    "        reduced_X_test = np.matmul(transform_matris.T,standardized_X_test).T\n",
    "\n",
    "        ### Using implemented KNN in order to predict test data\n",
    "        y_pred=[]\n",
    "        for testInstance in reduced_X_test:\n",
    "            neighbors = getKNeighborsIndex(reduced_X_train, testInstance)\n",
    "            y_pred.append(y_test[neighbors[0]])\n",
    "        random_accuracies.append(getAccuracy(y_test, y_pred))\n",
    "\n",
    "    ### Calculating mean of accuracies\n",
    "    mean_of_acuracies = np.mean(random_accuracies)\n",
    "    accuracies.append(mean_of_acuracies)\n",
    "    print(\"average of accuray on %d features is %.2f\" % (number_of_feature ,mean_of_acuracies),)\n",
    "    \n",
    "\n",
    "number_of_features_in_random_trainlist = number_of_features\n",
    "accuracies_in_random_trainlist = accuracies\n",
    "   "
   ]
  },
  {
   "cell_type": "code",
   "execution_count": 68,
   "metadata": {},
   "outputs": [
    {
     "name": "stdout",
     "output_type": "stream",
     "text": [
      "[69.55, 86.325, 88.25, 89.925, 90.325, 90.85, 91.4, 91.175, 91.55, 91.125, 90.3, 91.175, 91.6, 91.575, 91.05, 91.075, 91.25, 91.6, 90.975, 91.275, 91.875, 91.05, 90.775, 91.375, 91.45, 90.975, 91.375, 91.4, 91.5, 91.075, 91.4, 91.325, 91.0, 91.525, 91.525, 91.45, 91.45, 91.525, 91.975, 91.475]\n"
     ]
    },
    {
     "data": {
      "image/png": "[encoded data removed]",
      "text/plain": [
       "<Figure size 1440x576 with 1 Axes>"
      ]
     },
     "metadata": {
      "needs_background": "light"
     },
     "output_type": "display_data"
    }
   ],
   "source": [
    "print(accuracies_in_random_trainlist)\n",
    "\n",
    "fig = plt.figure(figsize=(20,8))\n",
    "plt.plot(number_of_features_in_random_trainlist,accuracies_in_random_trainlist)\n",
    "plt.plot(number_of_features_in_random_trainlist,accuracies_in_random_trainlist,'o')\n",
    "plt.xlabel(\"Number of features\")\n",
    "plt.ylabel(\"Accuracy in %\")\n",
    "plt.xticks(number_of_features)\n",
    "plt.grid()\n",
    "plt.show()"
   ]
  }
 ],
 "metadata": {
  "kernelspec": {
   "display_name": "Python 3",
   "language": "python",
   "name": "python3"
  },
  "language_info": {
   "codemirror_mode": {
    "name": "ipython",
    "version": 3
   },
   "file_extension": ".py",
   "mimetype": "text/x-python",
   "name": "python",
   "nbconvert_exporter": "python",
   "pygments_lexer": "ipython3",
   "version": "3.6.10"
  }
 },
 "nbformat": 4,
 "nbformat_minor": 4
}
